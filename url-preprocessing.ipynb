{
 "cells": [
  {
   "cell_type": "markdown",
   "id": "9d8febf9-4b15-4368-9209-c84a98050d4c",
   "metadata": {},
   "source": [
    "# URL Data merging\n",
    "we had many datasets for **malicious** and **benign** urls and we had to merge and preprocess them.\n",
    "Urls are parsed with url parser and then with class **URLPreprocessor** we exctract certain features from them such as: *length*, *top level domains(tld)*, *ratio* between lengths of different parts, *length* of *domain name*, *parameters*, *query* and also *count* of different parts. **Entropy** is based on formula taken from research paper and is based on probability numbers of letters which were calculated from the Alexa Top\n",
    "1 million domains. Then every dataset file is merged into one big dataset, broken down into parts for speed and preprocessed.  "
   ]
  },
  {
   "cell_type": "code",
   "execution_count": 2,
   "id": "ab0d2a57-f5db-422c-b3e5-4ee90c6c6a9c",
   "metadata": {},
   "outputs": [],
   "source": [
    "import re\n",
    "import csv\n",
    "import os\n",
    "import math\n",
    "import pandas as pd\n",
    "import urllib.parse\n",
    "from __future__ import division\n",
    "from collections import Counter\n",
    "from tld import get_tld\n",
    "def urlparse(address):\n",
    "    if not re.search(r'^[A-Za-z0-9+.\\-]+://', address):\n",
    "        address = 'http://{0}'.format(address)\n",
    "    return urllib.parse.urlparse(address)\n",
    "\n"
   ]
  },
  {
   "cell_type": "code",
   "execution_count": 3,
   "id": "3fc7d38f-af1a-4106-ba31-162943b74c75",
   "metadata": {},
   "outputs": [],
   "source": [
    "class URLPreprocessor:\n",
    "    \n",
    "    def __init__(self, url,benign):\n",
    "        url = url.replace(r\"'\",'')\n",
    "        self.url = url\n",
    "        self.benign = benign\n",
    "        self.parsedurl = urlparse(url)\n",
    "        self.tld = get_tld(url, fail_silently=True,fix_protocol=True) \n",
    "        self.domain = self.parsedurl.netloc\n",
    "        self.protocol = self.parsedurl.scheme\n",
    "        self.path = self.parsedurl.path\n",
    "        self.parameters = self.parsedurl.query\n",
    "        self.anchor = self.parsedurl.fragment\n",
    "\n",
    "        self.path_url_ratio = len(self.path) / len(self.url)\n",
    "        self.params_domain_ratio = len(self.parameters) / len(self.domain)\n",
    "        self.params_url_ratio = len(self.parameters) / len(self.url)  \n",
    "        self.domain_url_ratio = len(self.domain) / len(self.url)\n",
    "        self.number_rate_url = len(re.sub(\"[^0-9]\", \"\", self.url)) / len(self.url)\n",
    "        self.path_domain_ratio = len(self.path) / len(self.domain)\n",
    "        self.avg_path_token_len = sum([len(i) for i in self.path.split(\"/\")]) / len(self.path.split(\"/\"))\n",
    "        \n",
    "        #simboloebis counts vamateb imitoro magasac aqvs mnishvneloba turme\n",
    "        # @, //, ., % da - s counts vamateb da kide vamateb zogadad simboloebis counts\n",
    "        self.at_count = url.count(r'@')\n",
    "        self.double_slash_count = url.count(r'//')\n",
    "        self.hyphen_count = url.count(r'-')\n",
    "        self.dot_count = url.count(r'.')\n",
    "        self.percent_count = url.count(r'%')\n",
    "        self.symbols_count = len(re.findall(r'[:/=?.,;()]+',url))\n",
    "        #vamateb top level domainebis counts\n",
    "        try:\n",
    "            self.tld_count = len(self.tld.split('.'))\n",
    "        except:\n",
    "            self.tld_count = 0\n",
    "        #vamateb parametrebshi/queryshi da domainshi digit counts\n",
    "        self.param_digit_count = len(re.findall(r'\\d', self.parameters))\n",
    "        self.domain_digit_count = len(re.findall(r'\\d', self.domain))\n",
    "        \n",
    "        try:\n",
    "            self.number_rate_after_path = len(re.sub(\"[^0-9]\", \"\", self.url.split(\"/\")[-1])) / self.url.split(\"/\")[-1]\n",
    "        except: \n",
    "            self.number_rate_after_path = 0\n",
    "        \n",
    "        try:\n",
    "            self.params_path_ratio = len(self.parameters) / len(self.path)\n",
    "        except:\n",
    "            self.params_path_ratio = 0\n",
    "\n",
    "        try:\n",
    "            self.number_rate_file_name = len(re.sub(\"[^0-9]\", \"\", self.path)) / len(self.path)\n",
    "        except: \n",
    "            self.number_rate_file_name = 0\n",
    "\n",
    "        \n",
    "\n",
    "    \n",
    "    \n",
    "    \n",
    "    def char_cont_rate(self):\n",
    "        symbol_sequences = re.findall(r'[^a-zA-Z0-9]', self.domain)\n",
    "        total_len = len(self.domain)\n",
    "    \n",
    "        current_char_sequence = 0\n",
    "        longest_char_sequence = 0\n",
    "\n",
    "        current_digit_sequence = 0\n",
    "        longest_digit_sequence = 0\n",
    "        \n",
    "        current_sym_sequence = 0\n",
    "        longest_sym_sequence = 0\n",
    "\n",
    "        for char in self.domain:\n",
    "            if char.isalpha():\n",
    "                current_char_sequence += 1\n",
    "                current_digit_sequence = 0  # Reset digit sequence count\n",
    "            elif char.isdigit():\n",
    "                current_digit_sequence += 1\n",
    "                current_char_sequence = 0  # Reset character sequence count\n",
    "            else:\n",
    "                current_char_sequence = 0\n",
    "                current_digit_sequence = 0\n",
    "                \n",
    "            if char in symbol_sequences:\n",
    "                current_sym_sequence +=1\n",
    "            else:\n",
    "                longest_sym_sequence = max(longest_sym_sequence,current_sym_sequence)\n",
    "                current_sym_sequence = 0\n",
    "            \n",
    "            longest_char_sequence = max(longest_char_sequence, current_char_sequence)\n",
    "            longest_digit_sequence = max(longest_digit_sequence, current_digit_sequence)\n",
    "            \n",
    "        return sum([longest_char_sequence,longest_digit_sequence,longest_sym_sequence])/total_len        \n",
    "    \n",
    "\n",
    "    def entropy(self):\n",
    "        \n",
    "        base = 2\n",
    "        data = self.domain\n",
    "        entropy = 0.0\n",
    "        #remove dots and tld\n",
    "        try:\n",
    "            data = data.replace(self.tld,'')\n",
    "        except:\n",
    "            pass\n",
    "        data = data.replace('.','').replace(\":\",'').replace(r'%','')\n",
    "        data = data.lower()\n",
    "        length = len(data) * 1.0\n",
    "\n",
    "        if length > 0:\n",
    "            cnt = Counter(data)\n",
    "            # These probability numbers were calculated from the Alexa Top\n",
    "            # 1 million domains as of September 15th, 2017. TLDs and instances\n",
    "            # of 'www' were removed so 'www.google.com' would be treated as\n",
    "            # 'google' and 'images.google.com' would be 'images.google'.\n",
    "            probabilities = {\n",
    "                '-': 0.013342298553905901,\n",
    "                #arvici @ simbolos probability da yvelaze dabals mivanicheb imitoro saertod arunda iyos\n",
    "                '@': 9.04562613824129e-08,\n",
    "                '_': 9.04562613824129e-06,\n",
    "                '0': 0.0024875471880163543,\n",
    "                '1': 0.004884638114650296,\n",
    "                '2': 0.004373560237839663,\n",
    "                '3': 0.0021136613076357144,\n",
    "                '4': 0.001625197496170685,\n",
    "                '5': 0.0013070929769758662,\n",
    "                '6': 0.0014880054997406921,\n",
    "                '7': 0.001471421851820583,\n",
    "                '8': 0.0012663876593537805,\n",
    "                '9': 0.0010327089841158806,\n",
    "                'a': 0.07333590631143488,\n",
    "                'b': 0.04293204925644953,\n",
    "                'c': 0.027385633133525503,\n",
    "                'd': 0.02769469202658208,\n",
    "                'e': 0.07086192756262588,\n",
    "                'f': 0.01249653250998034,\n",
    "                'g': 0.038516276096631406,\n",
    "                'h': 0.024017645001386995,\n",
    "                'i': 0.060447396668797414,\n",
    "                'j': 0.007082725266242929,\n",
    "                'k': 0.01659570875496002,\n",
    "                'l': 0.05815885325582237,\n",
    "                'm': 0.033884915513851865,\n",
    "                'n': 0.04753175014774523,\n",
    "                'o': 0.09413783122067709,\n",
    "                'p': 0.042555148167356144,\n",
    "                'q': 0.0017231917793349655,\n",
    "                'r': 0.06460084667060655,\n",
    "                's': 0.07214640647425614,\n",
    "                't': 0.06447722311338391,\n",
    "                'u': 0.034792493336388744,\n",
    "                'v': 0.011637198026847418,\n",
    "                'w': 0.013318176884203925,\n",
    "                'x': 0.003170491961453572,\n",
    "                'y': 0.016381628936354975,\n",
    "                'z': 0.004715786426736459\n",
    "            }\n",
    "\n",
    "            for char, count in cnt.items():\n",
    "                observed = count / length\n",
    "                expected = probabilities[char]\n",
    "                entropy += observed * math.log((observed / expected), base)\n",
    "        return entropy\n",
    "\n",
    "        \n",
    "\n",
    "    def process(self):\n",
    "        entropy = self.entropy()\n",
    "        char_cont_rate = self.char_cont_rate()\n",
    "        return {\n",
    "            \"url\":self.url,\n",
    "            \"benign\":self.benign,\n",
    "            \"number_rate_file_name\" : self.number_rate_file_name,\n",
    "            \"domain_url_ratio\" : self.domain_url_ratio,\n",
    "            \"number_rate_url\" : self.number_rate_url,\n",
    "            \"path_domain_ratio\" : self.path_domain_ratio,\n",
    "            \"number_rate_after_path\" : self.number_rate_after_path,\n",
    "            \"avg_path_token_len\" : self.avg_path_token_len,\n",
    "            \"params_path_ratio\" : self.params_path_ratio,\n",
    "            \"params_url_ratio\" : self.params_url_ratio,\n",
    "            \"params_domain_ratio\" : self.params_domain_ratio,\n",
    "            \"path_url_ratio\" : self.path_url_ratio,\n",
    "            \"entropy\" : entropy,\n",
    "            \"char_cont_rate\" : char_cont_rate,\n",
    "            \"at_count\":self.at_count,\n",
    "            \"double_slash_count\":self.double_slash_count,\n",
    "            \"hyphen_count\":self.hyphen_count,\n",
    "            \"dot_count\":self.dot_count,\n",
    "            \"symbols_count\":self.symbols_count,\n",
    "            \"tld_count\":self.tld_count,\n",
    "            \"domain_digit_count\":self.domain_digit_count,\n",
    "            \"param_digit_count\":self.param_digit_count,\n",
    "            \"percent_count\":self.percent_count\n",
    "            \n",
    "            }"
   ]
  },
  {
   "cell_type": "code",
   "execution_count": 4,
   "id": "4f44bbf0-29d3-4fa8-b709-abf24cf2ba5e",
   "metadata": {},
   "outputs": [
    {
     "data": {
      "text/plain": [
       "{'url': 'http://1g@n.com/Recipe/Pesto-Chicken/Detail.aspx?evt19=1&referringHubId=15041',\n",
       " 'benign': 1,\n",
       " 'number_rate_file_name': 0.0,\n",
       " 'domain_url_ratio': 0.1038961038961039,\n",
       " 'number_rate_url': 0.11688311688311688,\n",
       " 'path_domain_ratio': 4.125,\n",
       " 'number_rate_after_path': 0,\n",
       " 'avg_path_token_len': 7.5,\n",
       " 'params_path_ratio': 0.8484848484848485,\n",
       " 'params_url_ratio': 0.36363636363636365,\n",
       " 'params_domain_ratio': 3.5,\n",
       " 'path_url_ratio': 0.42857142857142855,\n",
       " 'entropy': 8.042272405884228,\n",
       " 'char_cont_rate': 0.625,\n",
       " 'at_count': 1,\n",
       " 'double_slash_count': 1,\n",
       " 'hyphen_count': 1,\n",
       " 'dot_count': 2,\n",
       " 'symbols_count': 9,\n",
       " 'tld_count': 1,\n",
       " 'domain_digit_count': 1,\n",
       " 'param_digit_count': 8,\n",
       " 'percent_count': 0}"
      ]
     },
     "execution_count": 4,
     "metadata": {},
     "output_type": "execute_result"
    }
   ],
   "source": [
    "example_url = \"http://1g@n.com/Recipe/Pesto-Chicken/Detail.aspx?evt19=1&referringHubId=15041\"\n",
    "url_obj = URLPreprocessor(example_url,1)\n",
    "column_list = url_obj.process().keys()\n",
    "url_obj.process()"
   ]
  },
  {
   "cell_type": "markdown",
   "id": "2102fe11",
   "metadata": {},
   "source": [
    "# data processing"
   ]
  },
  {
   "cell_type": "markdown",
   "id": "8a91c907",
   "metadata": {},
   "source": [
    "## load all csv files"
   ]
  },
  {
   "cell_type": "markdown",
   "id": "7ab26501",
   "metadata": {},
   "source": [
    "### load benign dataset"
   ]
  },
  {
   "cell_type": "code",
   "execution_count": 122,
   "id": "fcd9cde2",
   "metadata": {},
   "outputs": [],
   "source": [
    "benign_filenname = \"./ISCXURL2016/FinalDataset/URL/Benign_list_big_final.csv\"\n",
    "benign_urls = []\n",
    "with open(benign_filenname, 'r') as csv_file:\n",
    "    csv_reader = csv.reader(csv_file)\n",
    "    for line in csv_reader:\n",
    "        benign_urls.append(line[0])\n",
    "\n",
    "benign_df = pd.DataFrame({\"url\":benign_urls})"
   ]
  },
  {
   "cell_type": "code",
   "execution_count": null,
   "id": "dfa11caf",
   "metadata": {},
   "outputs": [],
   "source": []
  },
  {
   "cell_type": "code",
   "execution_count": 123,
   "id": "c342a7e3",
   "metadata": {},
   "outputs": [],
   "source": [
    "benign_df['benign'] = 1"
   ]
  },
  {
   "cell_type": "code",
   "execution_count": 124,
   "id": "3dab7db1",
   "metadata": {},
   "outputs": [
    {
     "data": {
      "text/html": [
       "<div>\n",
       "<style scoped>\n",
       "    .dataframe tbody tr th:only-of-type {\n",
       "        vertical-align: middle;\n",
       "    }\n",
       "\n",
       "    .dataframe tbody tr th {\n",
       "        vertical-align: top;\n",
       "    }\n",
       "\n",
       "    .dataframe thead th {\n",
       "        text-align: right;\n",
       "    }\n",
       "</style>\n",
       "<table border=\"1\" class=\"dataframe\">\n",
       "  <thead>\n",
       "    <tr style=\"text-align: right;\">\n",
       "      <th></th>\n",
       "      <th>url</th>\n",
       "      <th>benign</th>\n",
       "    </tr>\n",
       "  </thead>\n",
       "  <tbody>\n",
       "    <tr>\n",
       "      <th>0</th>\n",
       "      <td>http://1337x.to/torrent/1048648/American-Snipe...</td>\n",
       "      <td>1</td>\n",
       "    </tr>\n",
       "    <tr>\n",
       "      <th>1</th>\n",
       "      <td>http://1337x.to/torrent/1110018/Blackhat-2015-...</td>\n",
       "      <td>1</td>\n",
       "    </tr>\n",
       "    <tr>\n",
       "      <th>2</th>\n",
       "      <td>http://1337x.to/torrent/1122940/Blackhat-2015-...</td>\n",
       "      <td>1</td>\n",
       "    </tr>\n",
       "    <tr>\n",
       "      <th>3</th>\n",
       "      <td>http://1337x.to/torrent/1124395/Fast-and-Furio...</td>\n",
       "      <td>1</td>\n",
       "    </tr>\n",
       "    <tr>\n",
       "      <th>4</th>\n",
       "      <td>http://1337x.to/torrent/1145504/Avengers-Age-o...</td>\n",
       "      <td>1</td>\n",
       "    </tr>\n",
       "    <tr>\n",
       "      <th>...</th>\n",
       "      <td>...</td>\n",
       "      <td>...</td>\n",
       "    </tr>\n",
       "    <tr>\n",
       "      <th>35373</th>\n",
       "      <td>https://lastpass.com/signup2.php?ac=1&amp;from_uri...</td>\n",
       "      <td>1</td>\n",
       "    </tr>\n",
       "    <tr>\n",
       "      <th>35374</th>\n",
       "      <td>https://lastpass.com/signup2.php?ac=1&amp;from_uri...</td>\n",
       "      <td>1</td>\n",
       "    </tr>\n",
       "    <tr>\n",
       "      <th>35375</th>\n",
       "      <td>https://lastpass.com/signup2.php?ac=1&amp;from_uri...</td>\n",
       "      <td>1</td>\n",
       "    </tr>\n",
       "    <tr>\n",
       "      <th>35376</th>\n",
       "      <td>https://lastpass.com/signup2.php?ac=1&amp;from_uri...</td>\n",
       "      <td>1</td>\n",
       "    </tr>\n",
       "    <tr>\n",
       "      <th>35377</th>\n",
       "      <td>https://asana.com/guide/videos/%22//fast.wisti...</td>\n",
       "      <td>1</td>\n",
       "    </tr>\n",
       "  </tbody>\n",
       "</table>\n",
       "<p>35378 rows × 2 columns</p>\n",
       "</div>"
      ],
      "text/plain": [
       "                                                     url  benign\n",
       "0      http://1337x.to/torrent/1048648/American-Snipe...       1\n",
       "1      http://1337x.to/torrent/1110018/Blackhat-2015-...       1\n",
       "2      http://1337x.to/torrent/1122940/Blackhat-2015-...       1\n",
       "3      http://1337x.to/torrent/1124395/Fast-and-Furio...       1\n",
       "4      http://1337x.to/torrent/1145504/Avengers-Age-o...       1\n",
       "...                                                  ...     ...\n",
       "35373  https://lastpass.com/signup2.php?ac=1&from_uri...       1\n",
       "35374  https://lastpass.com/signup2.php?ac=1&from_uri...       1\n",
       "35375  https://lastpass.com/signup2.php?ac=1&from_uri...       1\n",
       "35376  https://lastpass.com/signup2.php?ac=1&from_uri...       1\n",
       "35377  https://asana.com/guide/videos/%22//fast.wisti...       1\n",
       "\n",
       "[35378 rows x 2 columns]"
      ]
     },
     "execution_count": 124,
     "metadata": {},
     "output_type": "execute_result"
    }
   ],
   "source": [
    "benign_df"
   ]
  },
  {
   "cell_type": "markdown",
   "id": "136a94b9",
   "metadata": {},
   "source": [
    "### load malicious dataset"
   ]
  },
  {
   "cell_type": "code",
   "execution_count": 125,
   "id": "c364ab39",
   "metadata": {},
   "outputs": [],
   "source": [
    "directory_path = \"./ISCXURL2016/FinalDataset/URL/malicious/\"\n",
    "\n",
    "malicious_filenames = [f for f in os.listdir(directory_path) if os.path.isfile(os.path.join(directory_path, f))]"
   ]
  },
  {
   "cell_type": "code",
   "execution_count": 126,
   "id": "4b0efe2f",
   "metadata": {
    "scrolled": true
   },
   "outputs": [],
   "source": [
    "urls = []\n",
    "\n",
    "for name in malicious_filenames:\n",
    "    with open(directory_path+name, 'r') as csv_file:\n",
    "        csv_reader = csv.reader(csv_file)\n",
    "        for line in csv_reader:\n",
    "            urls.append(line[0])\n",
    "        \n"
   ]
  },
  {
   "cell_type": "code",
   "execution_count": 127,
   "id": "a6a62053",
   "metadata": {},
   "outputs": [],
   "source": [
    "malicious_df = pd.DataFrame({\"url\":urls})\n",
    "malicious_df['benign'] = 0"
   ]
  },
  {
   "cell_type": "code",
   "execution_count": 128,
   "id": "45549876-0611-4af0-b6c7-ed9d0abc1147",
   "metadata": {},
   "outputs": [],
   "source": [
    "df_concat = pd.concat([benign_df,malicious_df],ignore_index=True)"
   ]
  },
  {
   "cell_type": "code",
   "execution_count": 133,
   "id": "19f7bec1",
   "metadata": {},
   "outputs": [],
   "source": [
    "df_concat.to_csv(\"ISCXURL2016_dataset.csv\",index=False)"
   ]
  },
  {
   "cell_type": "code",
   "execution_count": 1,
   "id": "a563e018",
   "metadata": {},
   "outputs": [],
   "source": [
    "# df = pd.read_csv('rlilojr.csv')"
   ]
  },
  {
   "cell_type": "code",
   "execution_count": 2,
   "id": "ab89f003",
   "metadata": {},
   "outputs": [],
   "source": [
    "# df.groupby(['label']).count()"
   ]
  },
  {
   "cell_type": "code",
   "execution_count": 13,
   "id": "c96e4f1b",
   "metadata": {},
   "outputs": [],
   "source": [
    "df_malicious = df.loc[df['label'] == 1]"
   ]
  },
  {
   "cell_type": "code",
   "execution_count": null,
   "id": "43d7beb9",
   "metadata": {},
   "outputs": [],
   "source": [
    "df_benign = df.loc[df[\"label\"] == 0]"
   ]
  },
  {
   "cell_type": "code",
   "execution_count": null,
   "id": "03d5afdb",
   "metadata": {},
   "outputs": [],
   "source": []
  },
  {
   "cell_type": "code",
   "execution_count": 5,
   "id": "8e5cd98d",
   "metadata": {},
   "outputs": [],
   "source": [
    "df_concat = pd.read_csv('dataset_rlilojr.csv')\n",
    "df_concat.drop(columns=['Unnamed: 0'],inplace=True)"
   ]
  },
  {
   "cell_type": "code",
   "execution_count": 7,
   "id": "dd1d2fcb",
   "metadata": {},
   "outputs": [
    {
     "data": {
      "text/html": [
       "<div>\n",
       "<style scoped>\n",
       "    .dataframe tbody tr th:only-of-type {\n",
       "        vertical-align: middle;\n",
       "    }\n",
       "\n",
       "    .dataframe tbody tr th {\n",
       "        vertical-align: top;\n",
       "    }\n",
       "\n",
       "    .dataframe thead th {\n",
       "        text-align: right;\n",
       "    }\n",
       "</style>\n",
       "<table border=\"1\" class=\"dataframe\">\n",
       "  <thead>\n",
       "    <tr style=\"text-align: right;\">\n",
       "      <th></th>\n",
       "      <th>url</th>\n",
       "      <th>benign</th>\n",
       "    </tr>\n",
       "  </thead>\n",
       "  <tbody>\n",
       "    <tr>\n",
       "      <th>0</th>\n",
       "      <td>http://br-ofertasimperdiveis.epizy.com/produto...</td>\n",
       "      <td>0</td>\n",
       "    </tr>\n",
       "    <tr>\n",
       "      <th>1</th>\n",
       "      <td>https://semana-da-oferta.com/produtos.php?id=5...</td>\n",
       "      <td>0</td>\n",
       "    </tr>\n",
       "    <tr>\n",
       "      <th>2</th>\n",
       "      <td>https://scrid-apps-creacust-sslhide90766752024...</td>\n",
       "      <td>0</td>\n",
       "    </tr>\n",
       "    <tr>\n",
       "      <th>3</th>\n",
       "      <td>http://my-softbank-security.com/wap_login.htm</td>\n",
       "      <td>0</td>\n",
       "    </tr>\n",
       "    <tr>\n",
       "      <th>4</th>\n",
       "      <td>http://www.my-softbank-security.com/wap_login.htm</td>\n",
       "      <td>0</td>\n",
       "    </tr>\n",
       "    <tr>\n",
       "      <th>...</th>\n",
       "      <td>...</td>\n",
       "      <td>...</td>\n",
       "    </tr>\n",
       "    <tr>\n",
       "      <th>126932</th>\n",
       "      <td>sharebabe.com</td>\n",
       "      <td>1</td>\n",
       "    </tr>\n",
       "    <tr>\n",
       "      <th>126933</th>\n",
       "      <td>toysrusinc.com</td>\n",
       "      <td>1</td>\n",
       "    </tr>\n",
       "    <tr>\n",
       "      <th>126934</th>\n",
       "      <td>mrmoustache.co</td>\n",
       "      <td>1</td>\n",
       "    </tr>\n",
       "    <tr>\n",
       "      <th>126935</th>\n",
       "      <td>freeblog.hu</td>\n",
       "      <td>1</td>\n",
       "    </tr>\n",
       "    <tr>\n",
       "      <th>126936</th>\n",
       "      <td>mehmetkeskin.net</td>\n",
       "      <td>1</td>\n",
       "    </tr>\n",
       "  </tbody>\n",
       "</table>\n",
       "<p>126937 rows × 2 columns</p>\n",
       "</div>"
      ],
      "text/plain": [
       "                                                      url  benign\n",
       "0       http://br-ofertasimperdiveis.epizy.com/produto...       0\n",
       "1       https://semana-da-oferta.com/produtos.php?id=5...       0\n",
       "2       https://scrid-apps-creacust-sslhide90766752024...       0\n",
       "3           http://my-softbank-security.com/wap_login.htm       0\n",
       "4       http://www.my-softbank-security.com/wap_login.htm       0\n",
       "...                                                   ...     ...\n",
       "126932                                      sharebabe.com       1\n",
       "126933                                     toysrusinc.com       1\n",
       "126934                                     mrmoustache.co       1\n",
       "126935                                        freeblog.hu       1\n",
       "126936                                   mehmetkeskin.net       1\n",
       "\n",
       "[126937 rows x 2 columns]"
      ]
     },
     "execution_count": 7,
     "metadata": {},
     "output_type": "execute_result"
    }
   ],
   "source": [
    "df_concat"
   ]
  },
  {
   "cell_type": "code",
   "execution_count": 164,
   "id": "aab6d44f",
   "metadata": {
    "scrolled": true
   },
   "outputs": [
    {
     "name": "stdout",
     "output_type": "stream",
     "text": [
      "Unnamed: 0                                  1126\n",
      "url           http://diskobil.dk/7X3qtDnlz8mq9L/\n",
      "benign                                         0\n",
      "Name: 1126, dtype: object\n",
      "{'url': 'http://diskobil.dk/7X3qtDnlz8mq9L', 'benign': 0, 'number_rate_file_name': 0.25, 'domain_url_ratio': 0.3235294117647059, 'number_rate_url': 0.11764705882352941, 'path_domain_ratio': 1.4545454545454546, 'number_rate_after_path': 0, 'avg_path_token_len': 4.666666666666667, 'params_path_ratio': 0.0, 'params_url_ratio': 0.0, 'params_domain_ratio': 0.0, 'path_url_ratio': 0.47058823529411764, 'entropy': 1.6289141686655357, 'char_cont_rate': 0.8181818181818182, 'at_count': 0, 'double_slash_count': 1, 'hyphen_count': 0, 'dot_count': 1, 'symbols_count': 4, 'tld_count': 1, 'domain_digit_count': 0, 'param_digit_count': 0, 'percent_count': 0}\n",
      "Progress: 1126/126937\r"
     ]
    }
   ],
   "source": [
    "df = pd.DataFrame(columns=column_list)\n",
    "length = len(df_concat)\n",
    "for index, row in df_concat[1126:1127].iterrows():\n",
    "    print(row)\n",
    "    try:\n",
    "        url_obj = URLPreprocessor(row['url'],row['benign'])\n",
    "        new_row = url_obj.process()\n",
    "        new_row['url'] = 'http://diskobil.dk/7X3qtDnlz8mq9L'\n",
    "        df.loc[len(df)] = new_row\n",
    "        print(new_row)\n",
    "    except Exception as e:\n",
    "        print('\\n',e)\n",
    "        print(row['url'],index)\n",
    "        break\n",
    "    \n",
    "    print(f\"Progress: {index}/{length}\", end='\\r')"
   ]
  },
  {
   "cell_type": "code",
   "execution_count": 165,
   "id": "99c6817c",
   "metadata": {},
   "outputs": [],
   "source": [
    "df.to_csv(\"dataset_processed_lil.csv\",index=False,encoding='utf-8',sep=',')"
   ]
  },
  {
   "cell_type": "code",
   "execution_count": 166,
   "id": "e64eaf63",
   "metadata": {},
   "outputs": [],
   "source": [
    "df_r = pd.read_csv(\"dataset_processed_lil.csv\")"
   ]
  },
  {
   "cell_type": "code",
   "execution_count": 140,
   "id": "29773d75",
   "metadata": {},
   "outputs": [
    {
     "data": {
      "text/plain": [
       "{'url': 'http://diskobil.dk/7X3qtDnlz8mq9L/',\n",
       " 'benign': 0,\n",
       " 'number_rate_file_name': 0.25,\n",
       " 'domain_url_ratio': 0.3235294117647059,\n",
       " 'number_rate_url': 0.11764705882352941,\n",
       " 'path_domain_ratio': 1.4545454545454546,\n",
       " 'number_rate_after_path': 0,\n",
       " 'avg_path_token_len': 4.666666666666667,\n",
       " 'params_path_ratio': 0.0,\n",
       " 'params_url_ratio': 0.0,\n",
       " 'params_domain_ratio': 0.0,\n",
       " 'path_url_ratio': 0.47058823529411764,\n",
       " 'entropy': 1.6289141686655357,\n",
       " 'char_cont_rate': 0.8181818181818182,\n",
       " 'at_count': 0,\n",
       " 'double_slash_count': 1,\n",
       " 'hyphen_count': 0,\n",
       " 'dot_count': 1,\n",
       " 'symbols_count': 4,\n",
       " 'tld_count': 1,\n",
       " 'domain_digit_count': 0,\n",
       " 'param_digit_count': 0,\n",
       " 'percent_count': 0}"
      ]
     },
     "execution_count": 140,
     "metadata": {},
     "output_type": "execute_result"
    }
   ],
   "source": [
    "row = df_concat.iloc[1126]\n",
    "url_obj = URLPreprocessor(row['url'],row['benign'])\n",
    "new_row = url_obj.process()\n",
    "new_row"
   ]
  },
  {
   "cell_type": "code",
   "execution_count": 139,
   "id": "f277b80b",
   "metadata": {},
   "outputs": [
    {
     "ename": "ValueError",
     "evalue": "If using all scalar values, you must pass an index",
     "output_type": "error",
     "traceback": [
      "\u001b[1;31m---------------------------------------------------------------------------\u001b[0m",
      "\u001b[1;31mValueError\u001b[0m                                Traceback (most recent call last)",
      "Cell \u001b[1;32mIn[139], line 1\u001b[0m\n\u001b[1;32m----> 1\u001b[0m df2 \u001b[38;5;241m=\u001b[39m \u001b[43mpd\u001b[49m\u001b[38;5;241;43m.\u001b[39;49m\u001b[43mDataFrame\u001b[49m\u001b[43m(\u001b[49m\u001b[43mnew_row\u001b[49m\u001b[43m)\u001b[49m\n",
      "File \u001b[1;32m~\\.conda\\envs\\AI\\lib\\site-packages\\pandas\\core\\frame.py:736\u001b[0m, in \u001b[0;36mDataFrame.__init__\u001b[1;34m(self, data, index, columns, dtype, copy)\u001b[0m\n\u001b[0;32m    730\u001b[0m     mgr \u001b[38;5;241m=\u001b[39m \u001b[38;5;28mself\u001b[39m\u001b[38;5;241m.\u001b[39m_init_mgr(\n\u001b[0;32m    731\u001b[0m         data, axes\u001b[38;5;241m=\u001b[39m{\u001b[38;5;124m\"\u001b[39m\u001b[38;5;124mindex\u001b[39m\u001b[38;5;124m\"\u001b[39m: index, \u001b[38;5;124m\"\u001b[39m\u001b[38;5;124mcolumns\u001b[39m\u001b[38;5;124m\"\u001b[39m: columns}, dtype\u001b[38;5;241m=\u001b[39mdtype, copy\u001b[38;5;241m=\u001b[39mcopy\n\u001b[0;32m    732\u001b[0m     )\n\u001b[0;32m    734\u001b[0m \u001b[38;5;28;01melif\u001b[39;00m \u001b[38;5;28misinstance\u001b[39m(data, \u001b[38;5;28mdict\u001b[39m):\n\u001b[0;32m    735\u001b[0m     \u001b[38;5;66;03m# GH#38939 de facto copy defaults to False only in non-dict cases\u001b[39;00m\n\u001b[1;32m--> 736\u001b[0m     mgr \u001b[38;5;241m=\u001b[39m \u001b[43mdict_to_mgr\u001b[49m\u001b[43m(\u001b[49m\u001b[43mdata\u001b[49m\u001b[43m,\u001b[49m\u001b[43m \u001b[49m\u001b[43mindex\u001b[49m\u001b[43m,\u001b[49m\u001b[43m \u001b[49m\u001b[43mcolumns\u001b[49m\u001b[43m,\u001b[49m\u001b[43m \u001b[49m\u001b[43mdtype\u001b[49m\u001b[38;5;241;43m=\u001b[39;49m\u001b[43mdtype\u001b[49m\u001b[43m,\u001b[49m\u001b[43m \u001b[49m\u001b[43mcopy\u001b[49m\u001b[38;5;241;43m=\u001b[39;49m\u001b[43mcopy\u001b[49m\u001b[43m,\u001b[49m\u001b[43m \u001b[49m\u001b[43mtyp\u001b[49m\u001b[38;5;241;43m=\u001b[39;49m\u001b[43mmanager\u001b[49m\u001b[43m)\u001b[49m\n\u001b[0;32m    737\u001b[0m \u001b[38;5;28;01melif\u001b[39;00m \u001b[38;5;28misinstance\u001b[39m(data, ma\u001b[38;5;241m.\u001b[39mMaskedArray):\n\u001b[0;32m    738\u001b[0m     \u001b[38;5;28;01mfrom\u001b[39;00m \u001b[38;5;21;01mnumpy\u001b[39;00m\u001b[38;5;21;01m.\u001b[39;00m\u001b[38;5;21;01mma\u001b[39;00m \u001b[38;5;28;01mimport\u001b[39;00m mrecords\n",
      "File \u001b[1;32m~\\.conda\\envs\\AI\\lib\\site-packages\\pandas\\core\\internals\\construction.py:503\u001b[0m, in \u001b[0;36mdict_to_mgr\u001b[1;34m(data, index, columns, dtype, typ, copy)\u001b[0m\n\u001b[0;32m    499\u001b[0m     \u001b[38;5;28;01melse\u001b[39;00m:\n\u001b[0;32m    500\u001b[0m         \u001b[38;5;66;03m# dtype check to exclude e.g. range objects, scalars\u001b[39;00m\n\u001b[0;32m    501\u001b[0m         arrays \u001b[38;5;241m=\u001b[39m [x\u001b[38;5;241m.\u001b[39mcopy() \u001b[38;5;28;01mif\u001b[39;00m \u001b[38;5;28mhasattr\u001b[39m(x, \u001b[38;5;124m\"\u001b[39m\u001b[38;5;124mdtype\u001b[39m\u001b[38;5;124m\"\u001b[39m) \u001b[38;5;28;01melse\u001b[39;00m x \u001b[38;5;28;01mfor\u001b[39;00m x \u001b[38;5;129;01min\u001b[39;00m arrays]\n\u001b[1;32m--> 503\u001b[0m \u001b[38;5;28;01mreturn\u001b[39;00m \u001b[43marrays_to_mgr\u001b[49m\u001b[43m(\u001b[49m\u001b[43marrays\u001b[49m\u001b[43m,\u001b[49m\u001b[43m \u001b[49m\u001b[43mcolumns\u001b[49m\u001b[43m,\u001b[49m\u001b[43m \u001b[49m\u001b[43mindex\u001b[49m\u001b[43m,\u001b[49m\u001b[43m \u001b[49m\u001b[43mdtype\u001b[49m\u001b[38;5;241;43m=\u001b[39;49m\u001b[43mdtype\u001b[49m\u001b[43m,\u001b[49m\u001b[43m \u001b[49m\u001b[43mtyp\u001b[49m\u001b[38;5;241;43m=\u001b[39;49m\u001b[43mtyp\u001b[49m\u001b[43m,\u001b[49m\u001b[43m \u001b[49m\u001b[43mconsolidate\u001b[49m\u001b[38;5;241;43m=\u001b[39;49m\u001b[43mcopy\u001b[49m\u001b[43m)\u001b[49m\n",
      "File \u001b[1;32m~\\.conda\\envs\\AI\\lib\\site-packages\\pandas\\core\\internals\\construction.py:114\u001b[0m, in \u001b[0;36marrays_to_mgr\u001b[1;34m(arrays, columns, index, dtype, verify_integrity, typ, consolidate)\u001b[0m\n\u001b[0;32m    111\u001b[0m \u001b[38;5;28;01mif\u001b[39;00m verify_integrity:\n\u001b[0;32m    112\u001b[0m     \u001b[38;5;66;03m# figure out the index, if necessary\u001b[39;00m\n\u001b[0;32m    113\u001b[0m     \u001b[38;5;28;01mif\u001b[39;00m index \u001b[38;5;129;01mis\u001b[39;00m \u001b[38;5;28;01mNone\u001b[39;00m:\n\u001b[1;32m--> 114\u001b[0m         index \u001b[38;5;241m=\u001b[39m \u001b[43m_extract_index\u001b[49m\u001b[43m(\u001b[49m\u001b[43marrays\u001b[49m\u001b[43m)\u001b[49m\n\u001b[0;32m    115\u001b[0m     \u001b[38;5;28;01melse\u001b[39;00m:\n\u001b[0;32m    116\u001b[0m         index \u001b[38;5;241m=\u001b[39m ensure_index(index)\n",
      "File \u001b[1;32m~\\.conda\\envs\\AI\\lib\\site-packages\\pandas\\core\\internals\\construction.py:667\u001b[0m, in \u001b[0;36m_extract_index\u001b[1;34m(data)\u001b[0m\n\u001b[0;32m    664\u001b[0m         \u001b[38;5;28;01mraise\u001b[39;00m \u001b[38;5;167;01mValueError\u001b[39;00m(\u001b[38;5;124m\"\u001b[39m\u001b[38;5;124mPer-column arrays must each be 1-dimensional\u001b[39m\u001b[38;5;124m\"\u001b[39m)\n\u001b[0;32m    666\u001b[0m \u001b[38;5;28;01mif\u001b[39;00m \u001b[38;5;129;01mnot\u001b[39;00m indexes \u001b[38;5;129;01mand\u001b[39;00m \u001b[38;5;129;01mnot\u001b[39;00m raw_lengths:\n\u001b[1;32m--> 667\u001b[0m     \u001b[38;5;28;01mraise\u001b[39;00m \u001b[38;5;167;01mValueError\u001b[39;00m(\u001b[38;5;124m\"\u001b[39m\u001b[38;5;124mIf using all scalar values, you must pass an index\u001b[39m\u001b[38;5;124m\"\u001b[39m)\n\u001b[0;32m    669\u001b[0m \u001b[38;5;28;01mif\u001b[39;00m have_series:\n\u001b[0;32m    670\u001b[0m     index \u001b[38;5;241m=\u001b[39m union_indexes(indexes)\n",
      "\u001b[1;31mValueError\u001b[0m: If using all scalar values, you must pass an index"
     ]
    }
   ],
   "source": [
    "df2 = pd.DataFrame(new_row)"
   ]
  },
  {
   "cell_type": "code",
   "execution_count": null,
   "id": "f676cc12",
   "metadata": {},
   "outputs": [],
   "source": [
    "\n"
   ]
  },
  {
   "cell_type": "code",
   "execution_count": null,
   "id": "e518a020",
   "metadata": {},
   "outputs": [],
   "source": []
  },
  {
   "cell_type": "code",
   "execution_count": null,
   "id": "b26ba3dd",
   "metadata": {},
   "outputs": [],
   "source": []
  },
  {
   "cell_type": "code",
   "execution_count": null,
   "id": "ca8f85cf",
   "metadata": {},
   "outputs": [],
   "source": []
  },
  {
   "cell_type": "code",
   "execution_count": null,
   "id": "7711b7e1",
   "metadata": {},
   "outputs": [],
   "source": []
  },
  {
   "cell_type": "code",
   "execution_count": 3,
   "id": "687d4701",
   "metadata": {},
   "outputs": [],
   "source": [
    "file = \"rlilojr.csv\"\n",
    "df = pd.read_csv(file)"
   ]
  },
  {
   "cell_type": "code",
   "execution_count": 4,
   "id": "26bdbd1e",
   "metadata": {},
   "outputs": [
    {
     "data": {
      "text/html": [
       "<div>\n",
       "<style scoped>\n",
       "    .dataframe tbody tr th:only-of-type {\n",
       "        vertical-align: middle;\n",
       "    }\n",
       "\n",
       "    .dataframe tbody tr th {\n",
       "        vertical-align: top;\n",
       "    }\n",
       "\n",
       "    .dataframe thead th {\n",
       "        text-align: right;\n",
       "    }\n",
       "</style>\n",
       "<table border=\"1\" class=\"dataframe\">\n",
       "  <thead>\n",
       "    <tr style=\"text-align: right;\">\n",
       "      <th></th>\n",
       "      <th>url</th>\n",
       "    </tr>\n",
       "    <tr>\n",
       "      <th>label</th>\n",
       "      <th></th>\n",
       "    </tr>\n",
       "  </thead>\n",
       "  <tbody>\n",
       "    <tr>\n",
       "      <th>0</th>\n",
       "      <td>1000000</td>\n",
       "    </tr>\n",
       "    <tr>\n",
       "      <th>1</th>\n",
       "      <td>56937</td>\n",
       "    </tr>\n",
       "  </tbody>\n",
       "</table>\n",
       "</div>"
      ],
      "text/plain": [
       "           url\n",
       "label         \n",
       "0      1000000\n",
       "1        56937"
      ]
     },
     "execution_count": 4,
     "metadata": {},
     "output_type": "execute_result"
    }
   ],
   "source": [
    "df.groupby(['label']).count()"
   ]
  },
  {
   "cell_type": "code",
   "execution_count": 5,
   "id": "6dd5281f",
   "metadata": {},
   "outputs": [],
   "source": [
    "df_mal = df.loc[df['label'] == 1]"
   ]
  },
  {
   "cell_type": "code",
   "execution_count": 6,
   "id": "46891e85",
   "metadata": {},
   "outputs": [],
   "source": [
    "df_ben = df.loc[df['label'] == 0].sample(frac=0.2, random_state=36)"
   ]
  },
  {
   "cell_type": "code",
   "execution_count": 7,
   "id": "fc22de2f",
   "metadata": {},
   "outputs": [
    {
     "name": "stderr",
     "output_type": "stream",
     "text": [
      "C:\\Users\\warfa\\AppData\\Local\\Temp\\ipykernel_17336\\2601561868.py:1: SettingWithCopyWarning: \n",
      "A value is trying to be set on a copy of a slice from a DataFrame.\n",
      "Try using .loc[row_indexer,col_indexer] = value instead\n",
      "\n",
      "See the caveats in the documentation: https://pandas.pydata.org/pandas-docs/stable/user_guide/indexing.html#returning-a-view-versus-a-copy\n",
      "  df_mal['benign'] = 0\n"
     ]
    }
   ],
   "source": [
    "df_mal['benign'] = 0\n",
    "df_ben['benign'] = 1"
   ]
  },
  {
   "cell_type": "code",
   "execution_count": 9,
   "id": "8079819f",
   "metadata": {},
   "outputs": [
    {
     "name": "stderr",
     "output_type": "stream",
     "text": [
      "C:\\Users\\warfa\\AppData\\Local\\Temp\\ipykernel_17336\\1495019667.py:1: SettingWithCopyWarning: \n",
      "A value is trying to be set on a copy of a slice from a DataFrame\n",
      "\n",
      "See the caveats in the documentation: https://pandas.pydata.org/pandas-docs/stable/user_guide/indexing.html#returning-a-view-versus-a-copy\n",
      "  df_mal.drop(columns=['label'],inplace=True)\n"
     ]
    }
   ],
   "source": [
    "\n",
    "df_mal.drop(columns=['label'],inplace=True)\n"
   ]
  },
  {
   "cell_type": "code",
   "execution_count": 10,
   "id": "aa8fb53f",
   "metadata": {},
   "outputs": [],
   "source": [
    "df_ben.drop(columns=['label'],inplace=True)"
   ]
  },
  {
   "cell_type": "code",
   "execution_count": 11,
   "id": "7d8e14a2",
   "metadata": {},
   "outputs": [],
   "source": [
    "df = pd.concat([df_mal,df_ben],ignore_index=True)"
   ]
  },
  {
   "cell_type": "code",
   "execution_count": 16,
   "id": "06511c7f",
   "metadata": {},
   "outputs": [
    {
     "data": {
      "text/html": [
       "<div>\n",
       "<style scoped>\n",
       "    .dataframe tbody tr th:only-of-type {\n",
       "        vertical-align: middle;\n",
       "    }\n",
       "\n",
       "    .dataframe tbody tr th {\n",
       "        vertical-align: top;\n",
       "    }\n",
       "\n",
       "    .dataframe thead th {\n",
       "        text-align: right;\n",
       "    }\n",
       "</style>\n",
       "<table border=\"1\" class=\"dataframe\">\n",
       "  <thead>\n",
       "    <tr style=\"text-align: right;\">\n",
       "      <th></th>\n",
       "      <th>url</th>\n",
       "      <th>benign</th>\n",
       "    </tr>\n",
       "  </thead>\n",
       "  <tbody>\n",
       "    <tr>\n",
       "      <th>0</th>\n",
       "      <td>http://br-ofertasimperdiveis.epizy.com/produto...</td>\n",
       "      <td>0</td>\n",
       "    </tr>\n",
       "    <tr>\n",
       "      <th>1</th>\n",
       "      <td>https://semana-da-oferta.com/produtos.php?id=5...</td>\n",
       "      <td>0</td>\n",
       "    </tr>\n",
       "    <tr>\n",
       "      <th>2</th>\n",
       "      <td>https://scrid-apps-creacust-sslhide90766752024...</td>\n",
       "      <td>0</td>\n",
       "    </tr>\n",
       "    <tr>\n",
       "      <th>3</th>\n",
       "      <td>http://my-softbank-security.com/wap_login.htm</td>\n",
       "      <td>0</td>\n",
       "    </tr>\n",
       "    <tr>\n",
       "      <th>4</th>\n",
       "      <td>http://www.my-softbank-security.com/wap_login.htm</td>\n",
       "      <td>0</td>\n",
       "    </tr>\n",
       "    <tr>\n",
       "      <th>...</th>\n",
       "      <td>...</td>\n",
       "      <td>...</td>\n",
       "    </tr>\n",
       "    <tr>\n",
       "      <th>56932</th>\n",
       "      <td>https://www.qdpro.com.ua/download/data/tswreports</td>\n",
       "      <td>0</td>\n",
       "    </tr>\n",
       "    <tr>\n",
       "      <th>56933</th>\n",
       "      <td>https://www.ravenbiotech.com/cgi-bin.134157227...</td>\n",
       "      <td>0</td>\n",
       "    </tr>\n",
       "    <tr>\n",
       "      <th>56934</th>\n",
       "      <td>https://www.ravenbiotech.com/cgi-bin.134157227...</td>\n",
       "      <td>0</td>\n",
       "    </tr>\n",
       "    <tr>\n",
       "      <th>56935</th>\n",
       "      <td>https://www.relojesariel.com.ar/InstMidasMS/sp</td>\n",
       "      <td>0</td>\n",
       "    </tr>\n",
       "    <tr>\n",
       "      <th>56936</th>\n",
       "      <td>https://www.retriever-info.com/resources/toolb...</td>\n",
       "      <td>0</td>\n",
       "    </tr>\n",
       "  </tbody>\n",
       "</table>\n",
       "<p>56937 rows × 2 columns</p>\n",
       "</div>"
      ],
      "text/plain": [
       "                                                     url  benign\n",
       "0      http://br-ofertasimperdiveis.epizy.com/produto...       0\n",
       "1      https://semana-da-oferta.com/produtos.php?id=5...       0\n",
       "2      https://scrid-apps-creacust-sslhide90766752024...       0\n",
       "3          http://my-softbank-security.com/wap_login.htm       0\n",
       "4      http://www.my-softbank-security.com/wap_login.htm       0\n",
       "...                                                  ...     ...\n",
       "56932  https://www.qdpro.com.ua/download/data/tswreports       0\n",
       "56933  https://www.ravenbiotech.com/cgi-bin.134157227...       0\n",
       "56934  https://www.ravenbiotech.com/cgi-bin.134157227...       0\n",
       "56935     https://www.relojesariel.com.ar/InstMidasMS/sp       0\n",
       "56936  https://www.retriever-info.com/resources/toolb...       0\n",
       "\n",
       "[56937 rows x 2 columns]"
      ]
     },
     "execution_count": 16,
     "metadata": {},
     "output_type": "execute_result"
    }
   ],
   "source": [
    "df_mal"
   ]
  },
  {
   "cell_type": "code",
   "execution_count": 20,
   "id": "a5d9fba7",
   "metadata": {},
   "outputs": [],
   "source": [
    "df_mal.to_csv(f'dataset_malicious_rlilojr.csv',index=False)"
   ]
  },
  {
   "cell_type": "code",
   "execution_count": 24,
   "id": "975256f8",
   "metadata": {},
   "outputs": [],
   "source": [
    "df_data = pd.read_csv('data2.csv')"
   ]
  },
  {
   "cell_type": "code",
   "execution_count": 31,
   "id": "fd1931d7",
   "metadata": {},
   "outputs": [
    {
     "ename": "TypeError",
     "evalue": "replace() got an unexpected keyword argument 'columns'",
     "output_type": "error",
     "traceback": [
      "\u001b[1;31m---------------------------------------------------------------------------\u001b[0m",
      "\u001b[1;31mTypeError\u001b[0m                                 Traceback (most recent call last)",
      "Cell \u001b[1;32mIn[31], line 1\u001b[0m\n\u001b[1;32m----> 1\u001b[0m \u001b[43mdf_data\u001b[49m\u001b[38;5;241;43m.\u001b[39;49m\u001b[43mreplace\u001b[49m\u001b[43m(\u001b[49m\u001b[43mcolumns\u001b[49m\u001b[38;5;241;43m=\u001b[39;49m\u001b[43m{\u001b[49m\u001b[43mdf_data\u001b[49m\u001b[38;5;241;43m.\u001b[39;49m\u001b[43mcolumns\u001b[49m\u001b[43m[\u001b[49m\u001b[38;5;241;43m1\u001b[39;49m\u001b[43m]\u001b[49m\u001b[43m:\u001b[49m\u001b[38;5;124;43m\"\u001b[39;49m\u001b[38;5;124;43murl\u001b[39;49m\u001b[38;5;124;43m\"\u001b[39;49m\u001b[43m}\u001b[49m\u001b[43m,\u001b[49m\u001b[43minplace\u001b[49m\u001b[38;5;241;43m=\u001b[39;49m\u001b[38;5;28;43;01mTrue\u001b[39;49;00m\u001b[43m)\u001b[49m\n",
      "\u001b[1;31mTypeError\u001b[0m: replace() got an unexpected keyword argument 'columns'"
     ]
    }
   ],
   "source": [
    "df_data.replace(columns={df_data.columns[1]:\"url\"},inplace=True)"
   ]
  },
  {
   "cell_type": "code",
   "execution_count": 30,
   "id": "1225dacf",
   "metadata": {},
   "outputs": [
    {
     "data": {
      "text/html": [
       "<div>\n",
       "<style scoped>\n",
       "    .dataframe tbody tr th:only-of-type {\n",
       "        vertical-align: middle;\n",
       "    }\n",
       "\n",
       "    .dataframe tbody tr th {\n",
       "        vertical-align: top;\n",
       "    }\n",
       "\n",
       "    .dataframe thead th {\n",
       "        text-align: right;\n",
       "    }\n",
       "</style>\n",
       "<table border=\"1\" class=\"dataframe\">\n",
       "  <thead>\n",
       "    <tr style=\"text-align: right;\">\n",
       "      <th></th>\n",
       "      <th>hottraveljobs.com/forum/docs/info.php</th>\n",
       "      <th>bad</th>\n",
       "    </tr>\n",
       "  </thead>\n",
       "  <tbody>\n",
       "    <tr>\n",
       "      <th>0</th>\n",
       "      <td>news.grouptumbler.com/news/feed.php</td>\n",
       "      <td>url</td>\n",
       "    </tr>\n",
       "    <tr>\n",
       "      <th>1</th>\n",
       "      <td>info.leveldelta.com/php/text.php</td>\n",
       "      <td>url</td>\n",
       "    </tr>\n",
       "    <tr>\n",
       "      <th>2</th>\n",
       "      <td>citroen-club.ch/n.exe</td>\n",
       "      <td>url</td>\n",
       "    </tr>\n",
       "    <tr>\n",
       "      <th>3</th>\n",
       "      <td>zehir4.asp</td>\n",
       "      <td>url</td>\n",
       "    </tr>\n",
       "    <tr>\n",
       "      <th>4</th>\n",
       "      <td>ZHC_Shell_1.0.aspx</td>\n",
       "      <td>url</td>\n",
       "    </tr>\n",
       "    <tr>\n",
       "      <th>...</th>\n",
       "      <td>...</td>\n",
       "      <td>...</td>\n",
       "    </tr>\n",
       "    <tr>\n",
       "      <th>32870</th>\n",
       "      <td>23.227.196.215/</td>\n",
       "      <td>url</td>\n",
       "    </tr>\n",
       "    <tr>\n",
       "      <th>32871</th>\n",
       "      <td>apple-checker.org/</td>\n",
       "      <td>url</td>\n",
       "    </tr>\n",
       "    <tr>\n",
       "      <th>32872</th>\n",
       "      <td>apple-iclods.org/</td>\n",
       "      <td>url</td>\n",
       "    </tr>\n",
       "    <tr>\n",
       "      <th>32873</th>\n",
       "      <td>apple-uptoday.org/</td>\n",
       "      <td>url</td>\n",
       "    </tr>\n",
       "    <tr>\n",
       "      <th>32874</th>\n",
       "      <td>apple-search.info</td>\n",
       "      <td>url</td>\n",
       "    </tr>\n",
       "  </tbody>\n",
       "</table>\n",
       "<p>32875 rows × 2 columns</p>\n",
       "</div>"
      ],
      "text/plain": [
       "      hottraveljobs.com/forum/docs/info.php  bad\n",
       "0       news.grouptumbler.com/news/feed.php  url\n",
       "1          info.leveldelta.com/php/text.php  url\n",
       "2                     citroen-club.ch/n.exe  url\n",
       "3                                zehir4.asp  url\n",
       "4                        ZHC_Shell_1.0.aspx  url\n",
       "...                                     ...  ...\n",
       "32870                       23.227.196.215/  url\n",
       "32871                    apple-checker.org/  url\n",
       "32872                     apple-iclods.org/  url\n",
       "32873                    apple-uptoday.org/  url\n",
       "32874                     apple-search.info  url\n",
       "\n",
       "[32875 rows x 2 columns]"
      ]
     },
     "execution_count": 30,
     "metadata": {},
     "output_type": "execute_result"
    }
   ],
   "source": []
  },
  {
   "cell_type": "markdown",
   "id": "c6020f76",
   "metadata": {},
   "source": [
    "# data dataset"
   ]
  },
  {
   "cell_type": "code",
   "execution_count": 21,
   "id": "81611224",
   "metadata": {},
   "outputs": [],
   "source": [
    "filename_data = \"data.csv\"\n",
    "df_data = pd.read_csv(filename_data)"
   ]
  },
  {
   "cell_type": "code",
   "execution_count": 24,
   "id": "f821e0b1",
   "metadata": {},
   "outputs": [
    {
     "data": {
      "text/html": [
       "<div>\n",
       "<style scoped>\n",
       "    .dataframe tbody tr th:only-of-type {\n",
       "        vertical-align: middle;\n",
       "    }\n",
       "\n",
       "    .dataframe tbody tr th {\n",
       "        vertical-align: top;\n",
       "    }\n",
       "\n",
       "    .dataframe thead th {\n",
       "        text-align: right;\n",
       "    }\n",
       "</style>\n",
       "<table border=\"1\" class=\"dataframe\">\n",
       "  <thead>\n",
       "    <tr style=\"text-align: right;\">\n",
       "      <th></th>\n",
       "      <th>url</th>\n",
       "    </tr>\n",
       "    <tr>\n",
       "      <th>label</th>\n",
       "      <th></th>\n",
       "    </tr>\n",
       "  </thead>\n",
       "  <tbody>\n",
       "    <tr>\n",
       "      <th>bad</th>\n",
       "      <td>75643</td>\n",
       "    </tr>\n",
       "    <tr>\n",
       "      <th>good</th>\n",
       "      <td>344821</td>\n",
       "    </tr>\n",
       "  </tbody>\n",
       "</table>\n",
       "</div>"
      ],
      "text/plain": [
       "          url\n",
       "label        \n",
       "bad     75643\n",
       "good   344821"
      ]
     },
     "execution_count": 24,
     "metadata": {},
     "output_type": "execute_result"
    }
   ],
   "source": [
    "df_data.groupby(['label']).count()"
   ]
  },
  {
   "cell_type": "code",
   "execution_count": 32,
   "id": "fe0833e7",
   "metadata": {},
   "outputs": [],
   "source": [
    "df_data_malicious = df_data.loc[(df_data['label'] == 'bad') & (df_data['url'].str.len() > 30)]\n",
    "df_data_benign = df_data.loc[(df_data['label'] == 'good') & (df_data['url'].str.len() > 30)]"
   ]
  },
  {
   "cell_type": "code",
   "execution_count": 34,
   "id": "0a95b239",
   "metadata": {},
   "outputs": [
    {
     "name": "stderr",
     "output_type": "stream",
     "text": [
      "C:\\Users\\warfa\\AppData\\Local\\Temp\\ipykernel_17336\\4214476651.py:1: SettingWithCopyWarning: \n",
      "A value is trying to be set on a copy of a slice from a DataFrame.\n",
      "Try using .loc[row_indexer,col_indexer] = value instead\n",
      "\n",
      "See the caveats in the documentation: https://pandas.pydata.org/pandas-docs/stable/user_guide/indexing.html#returning-a-view-versus-a-copy\n",
      "  df_data_benign['benign'] = 1\n",
      "C:\\Users\\warfa\\AppData\\Local\\Temp\\ipykernel_17336\\4214476651.py:2: SettingWithCopyWarning: \n",
      "A value is trying to be set on a copy of a slice from a DataFrame.\n",
      "Try using .loc[row_indexer,col_indexer] = value instead\n",
      "\n",
      "See the caveats in the documentation: https://pandas.pydata.org/pandas-docs/stable/user_guide/indexing.html#returning-a-view-versus-a-copy\n",
      "  df_data_malicious['benign'] = 0\n",
      "C:\\Users\\warfa\\AppData\\Local\\Temp\\ipykernel_17336\\4214476651.py:3: SettingWithCopyWarning: \n",
      "A value is trying to be set on a copy of a slice from a DataFrame\n",
      "\n",
      "See the caveats in the documentation: https://pandas.pydata.org/pandas-docs/stable/user_guide/indexing.html#returning-a-view-versus-a-copy\n",
      "  df_data_benign.drop(columns=['label'],inplace=True)\n",
      "C:\\Users\\warfa\\AppData\\Local\\Temp\\ipykernel_17336\\4214476651.py:4: SettingWithCopyWarning: \n",
      "A value is trying to be set on a copy of a slice from a DataFrame\n",
      "\n",
      "See the caveats in the documentation: https://pandas.pydata.org/pandas-docs/stable/user_guide/indexing.html#returning-a-view-versus-a-copy\n",
      "  df_data_malicious.drop(columns=['label'],inplace=True)\n"
     ]
    }
   ],
   "source": [
    "df_data_benign['benign'] = 1\n",
    "df_data_malicious['benign'] = 0\n",
    "df_data_benign.drop(columns=['label'],inplace=True)\n",
    "df_data_malicious.drop(columns=['label'],inplace=True)"
   ]
  },
  {
   "cell_type": "code",
   "execution_count": 36,
   "id": "fd7e15dc",
   "metadata": {},
   "outputs": [
    {
     "data": {
      "text/html": [
       "<div>\n",
       "<style scoped>\n",
       "    .dataframe tbody tr th:only-of-type {\n",
       "        vertical-align: middle;\n",
       "    }\n",
       "\n",
       "    .dataframe tbody tr th {\n",
       "        vertical-align: top;\n",
       "    }\n",
       "\n",
       "    .dataframe thead th {\n",
       "        text-align: right;\n",
       "    }\n",
       "</style>\n",
       "<table border=\"1\" class=\"dataframe\">\n",
       "  <thead>\n",
       "    <tr style=\"text-align: right;\">\n",
       "      <th></th>\n",
       "      <th>url</th>\n",
       "      <th>benign</th>\n",
       "    </tr>\n",
       "  </thead>\n",
       "  <tbody>\n",
       "    <tr>\n",
       "      <th>8</th>\n",
       "      <td>crackspider.us/toolbar/install.php?pack=exe</td>\n",
       "      <td>0</td>\n",
       "    </tr>\n",
       "    <tr>\n",
       "      <th>11</th>\n",
       "      <td>svision-online.de/mgfi/administrator/component...</td>\n",
       "      <td>0</td>\n",
       "    </tr>\n",
       "    <tr>\n",
       "      <th>12</th>\n",
       "      <td>officeon.ch.ma/office.js?google_ad_format=728x...</td>\n",
       "      <td>0</td>\n",
       "    </tr>\n",
       "    <tr>\n",
       "      <th>18</th>\n",
       "      <td>freeserials.spb.ru/key/68703.htm</td>\n",
       "      <td>0</td>\n",
       "    </tr>\n",
       "    <tr>\n",
       "      <th>20</th>\n",
       "      <td>orbowlada.strefa.pl/text396.htm</td>\n",
       "      <td>0</td>\n",
       "    </tr>\n",
       "    <tr>\n",
       "      <th>...</th>\n",
       "      <td>...</td>\n",
       "      <td>...</td>\n",
       "    </tr>\n",
       "    <tr>\n",
       "      <th>420453</th>\n",
       "      <td>stefanocardone.com/wp-includes/SimplePie/HTTP/...</td>\n",
       "      <td>0</td>\n",
       "    </tr>\n",
       "    <tr>\n",
       "      <th>420454</th>\n",
       "      <td>defibel.org/wp-includes/images/index.html</td>\n",
       "      <td>0</td>\n",
       "    </tr>\n",
       "    <tr>\n",
       "      <th>420455</th>\n",
       "      <td>shapingsoftware.com/2009/02/09/architectural-s...</td>\n",
       "      <td>0</td>\n",
       "    </tr>\n",
       "    <tr>\n",
       "      <th>420456</th>\n",
       "      <td>free.ulohapp.info/?br_fl=2872&amp;amp;tuif=5539&amp;am...</td>\n",
       "      <td>0</td>\n",
       "    </tr>\n",
       "    <tr>\n",
       "      <th>420457</th>\n",
       "      <td>free.ulohapp.info/?oq=CEh3h_PskJLFZaQWwjEKBegU...</td>\n",
       "      <td>0</td>\n",
       "    </tr>\n",
       "  </tbody>\n",
       "</table>\n",
       "<p>48249 rows × 2 columns</p>\n",
       "</div>"
      ],
      "text/plain": [
       "                                                      url  benign\n",
       "8             crackspider.us/toolbar/install.php?pack=exe       0\n",
       "11      svision-online.de/mgfi/administrator/component...       0\n",
       "12      officeon.ch.ma/office.js?google_ad_format=728x...       0\n",
       "18                       freeserials.spb.ru/key/68703.htm       0\n",
       "20                        orbowlada.strefa.pl/text396.htm       0\n",
       "...                                                   ...     ...\n",
       "420453  stefanocardone.com/wp-includes/SimplePie/HTTP/...       0\n",
       "420454          defibel.org/wp-includes/images/index.html       0\n",
       "420455  shapingsoftware.com/2009/02/09/architectural-s...       0\n",
       "420456  free.ulohapp.info/?br_fl=2872&amp;tuif=5539&am...       0\n",
       "420457  free.ulohapp.info/?oq=CEh3h_PskJLFZaQWwjEKBegU...       0\n",
       "\n",
       "[48249 rows x 2 columns]"
      ]
     },
     "execution_count": 36,
     "metadata": {},
     "output_type": "execute_result"
    }
   ],
   "source": [
    "df_data_malicious"
   ]
  },
  {
   "cell_type": "code",
   "execution_count": 37,
   "id": "ecd6ecf2",
   "metadata": {},
   "outputs": [],
   "source": [
    "df_data_concat = pd.concat([df_data_benign,df_data_malicious],ignore_index=True)"
   ]
  },
  {
   "cell_type": "markdown",
   "id": "445a2dc5",
   "metadata": {},
   "source": [
    "## data 2"
   ]
  },
  {
   "cell_type": "code",
   "execution_count": 38,
   "id": "9e18cf59",
   "metadata": {},
   "outputs": [],
   "source": [
    "df_data_2 = pd.read_csv(\"data2.csv\")"
   ]
  },
  {
   "cell_type": "code",
   "execution_count": 41,
   "id": "54980b35",
   "metadata": {},
   "outputs": [],
   "source": [
    "df_data_2.rename(columns={df_data_2.columns[0]:\"url\",\"bad\":\"label\"},inplace=True)"
   ]
  },
  {
   "cell_type": "code",
   "execution_count": 43,
   "id": "1342c304",
   "metadata": {},
   "outputs": [
    {
     "name": "stderr",
     "output_type": "stream",
     "text": [
      "C:\\Users\\warfa\\AppData\\Local\\Temp\\ipykernel_17336\\2938192408.py:5: SettingWithCopyWarning: \n",
      "A value is trying to be set on a copy of a slice from a DataFrame\n",
      "\n",
      "See the caveats in the documentation: https://pandas.pydata.org/pandas-docs/stable/user_guide/indexing.html#returning-a-view-versus-a-copy\n",
      "  df_data_benign.drop(columns=['label'],inplace=True)\n"
     ]
    }
   ],
   "source": [
    "df_data_malicious = df_data_2.loc[df_data_2['label'] == 'bad']\n",
    "df_data_benign = df_data_2.loc[(df_data_2['label'] == 'good') & (df_data_2['url'].str.len() > 30)]\n",
    "df_data_benign['benign'] = 1\n",
    "df_data_malicious['benign'] = 0\n",
    "df_data_benign.drop(columns=['label'],inplace=True)\n",
    "df_data_malicious.drop(columns=['label'],inplace=True)"
   ]
  },
  {
   "cell_type": "code",
   "execution_count": 47,
   "id": "64e0036e",
   "metadata": {},
   "outputs": [
    {
     "data": {
      "text/html": [
       "<div>\n",
       "<style scoped>\n",
       "    .dataframe tbody tr th:only-of-type {\n",
       "        vertical-align: middle;\n",
       "    }\n",
       "\n",
       "    .dataframe tbody tr th {\n",
       "        vertical-align: top;\n",
       "    }\n",
       "\n",
       "    .dataframe thead th {\n",
       "        text-align: right;\n",
       "    }\n",
       "</style>\n",
       "<table border=\"1\" class=\"dataframe\">\n",
       "  <thead>\n",
       "    <tr style=\"text-align: right;\">\n",
       "      <th></th>\n",
       "      <th>url</th>\n",
       "    </tr>\n",
       "    <tr>\n",
       "      <th>label</th>\n",
       "      <th></th>\n",
       "    </tr>\n",
       "  </thead>\n",
       "  <tbody>\n",
       "    <tr>\n",
       "      <th>bad</th>\n",
       "      <td>32875</td>\n",
       "    </tr>\n",
       "  </tbody>\n",
       "</table>\n",
       "</div>"
      ],
      "text/plain": [
       "         url\n",
       "label       \n",
       "bad    32875"
      ]
     },
     "execution_count": 47,
     "metadata": {},
     "output_type": "execute_result"
    }
   ],
   "source": [
    "df_data_2.groupby(['label']).count()"
   ]
  },
  {
   "cell_type": "code",
   "execution_count": 49,
   "id": "a3581ac8",
   "metadata": {},
   "outputs": [],
   "source": [
    "df_data_concat = pd.concat([df_data_concat,df_data_malicious],ignore_index=True) "
   ]
  },
  {
   "cell_type": "code",
   "execution_count": 52,
   "id": "5e57d2bf",
   "metadata": {},
   "outputs": [],
   "source": [
    "df_data_concat.to_csv(\"datav1v2_dataset.csv\")"
   ]
  },
  {
   "cell_type": "markdown",
   "id": "eb921d2f",
   "metadata": {},
   "source": [
    "# Webpages classification data 2GB"
   ]
  },
  {
   "cell_type": "code",
   "execution_count": 53,
   "id": "57cfbc9b",
   "metadata": {},
   "outputs": [],
   "source": [
    "file = \"Webpages_Classification_train_data.csv\"\n",
    "df = pd.read_csv(file)"
   ]
  },
  {
   "cell_type": "code",
   "execution_count": 55,
   "id": "411b1821",
   "metadata": {},
   "outputs": [],
   "source": [
    "df.drop(columns=[\"Unnamed: 0\"],inplace=True)"
   ]
  },
  {
   "cell_type": "code",
   "execution_count": 64,
   "id": "684d2b23",
   "metadata": {},
   "outputs": [
    {
     "data": {
      "text/plain": [
       "Index(['url_len', 'ip_add', 'geo_loc', 'tld', 'who_is', 'https', 'js_len',\n",
       "       'js_obf_len', 'content'],\n",
       "      dtype='object')"
      ]
     },
     "execution_count": 64,
     "metadata": {},
     "output_type": "execute_result"
    }
   ],
   "source": [
    "cols = df.columns[1:10]\n",
    "cols"
   ]
  },
  {
   "cell_type": "code",
   "execution_count": 65,
   "id": "4ceee4da",
   "metadata": {},
   "outputs": [],
   "source": [
    "df.drop(columns=cols,inplace=True)"
   ]
  },
  {
   "cell_type": "code",
   "execution_count": 67,
   "id": "447baf33",
   "metadata": {},
   "outputs": [
    {
     "data": {
      "text/html": [
       "<div>\n",
       "<style scoped>\n",
       "    .dataframe tbody tr th:only-of-type {\n",
       "        vertical-align: middle;\n",
       "    }\n",
       "\n",
       "    .dataframe tbody tr th {\n",
       "        vertical-align: top;\n",
       "    }\n",
       "\n",
       "    .dataframe thead th {\n",
       "        text-align: right;\n",
       "    }\n",
       "</style>\n",
       "<table border=\"1\" class=\"dataframe\">\n",
       "  <thead>\n",
       "    <tr style=\"text-align: right;\">\n",
       "      <th></th>\n",
       "      <th>url</th>\n",
       "    </tr>\n",
       "    <tr>\n",
       "      <th>label</th>\n",
       "      <th></th>\n",
       "    </tr>\n",
       "  </thead>\n",
       "  <tbody>\n",
       "    <tr>\n",
       "      <th>bad</th>\n",
       "      <td>27253</td>\n",
       "    </tr>\n",
       "    <tr>\n",
       "      <th>good</th>\n",
       "      <td>1172747</td>\n",
       "    </tr>\n",
       "  </tbody>\n",
       "</table>\n",
       "</div>"
      ],
      "text/plain": [
       "           url\n",
       "label         \n",
       "bad      27253\n",
       "good   1172747"
      ]
     },
     "execution_count": 67,
     "metadata": {},
     "output_type": "execute_result"
    }
   ],
   "source": [
    "df.groupby(['label']).count()\n"
   ]
  },
  {
   "cell_type": "code",
   "execution_count": 68,
   "id": "d8140630",
   "metadata": {},
   "outputs": [
    {
     "data": {
      "text/html": [
       "<div>\n",
       "<style scoped>\n",
       "    .dataframe tbody tr th:only-of-type {\n",
       "        vertical-align: middle;\n",
       "    }\n",
       "\n",
       "    .dataframe tbody tr th {\n",
       "        vertical-align: top;\n",
       "    }\n",
       "\n",
       "    .dataframe thead th {\n",
       "        text-align: right;\n",
       "    }\n",
       "</style>\n",
       "<table border=\"1\" class=\"dataframe\">\n",
       "  <thead>\n",
       "    <tr style=\"text-align: right;\">\n",
       "      <th></th>\n",
       "      <th>url</th>\n",
       "      <th>label</th>\n",
       "    </tr>\n",
       "  </thead>\n",
       "  <tbody>\n",
       "    <tr>\n",
       "      <th>0</th>\n",
       "      <td>http://members.tripod.com/russiastation/</td>\n",
       "      <td>good</td>\n",
       "    </tr>\n",
       "    <tr>\n",
       "      <th>1</th>\n",
       "      <td>http://www.ddj.com/cpp/184403822</td>\n",
       "      <td>good</td>\n",
       "    </tr>\n",
       "    <tr>\n",
       "      <th>2</th>\n",
       "      <td>http://www.naef-usa.com/</td>\n",
       "      <td>good</td>\n",
       "    </tr>\n",
       "    <tr>\n",
       "      <th>3</th>\n",
       "      <td>http://www.ff-b2b.de/</td>\n",
       "      <td>bad</td>\n",
       "    </tr>\n",
       "    <tr>\n",
       "      <th>4</th>\n",
       "      <td>http://us.imdb.com/title/tt0176269/</td>\n",
       "      <td>good</td>\n",
       "    </tr>\n",
       "    <tr>\n",
       "      <th>...</th>\n",
       "      <td>...</td>\n",
       "      <td>...</td>\n",
       "    </tr>\n",
       "    <tr>\n",
       "      <th>1199995</th>\n",
       "      <td>http://csrc.nist.gov/rbac/</td>\n",
       "      <td>good</td>\n",
       "    </tr>\n",
       "    <tr>\n",
       "      <th>1199996</th>\n",
       "      <td>http://www.unm.edu/~hist/</td>\n",
       "      <td>good</td>\n",
       "    </tr>\n",
       "    <tr>\n",
       "      <th>1199997</th>\n",
       "      <td>http://www.syfyportal.com/news423380.html</td>\n",
       "      <td>good</td>\n",
       "    </tr>\n",
       "    <tr>\n",
       "      <th>1199998</th>\n",
       "      <td>http://www.wardkenpo.ie</td>\n",
       "      <td>good</td>\n",
       "    </tr>\n",
       "    <tr>\n",
       "      <th>1199999</th>\n",
       "      <td>http://homepages.gotadsl.co.uk/~jgm/ekmm/</td>\n",
       "      <td>good</td>\n",
       "    </tr>\n",
       "  </tbody>\n",
       "</table>\n",
       "<p>1200000 rows × 2 columns</p>\n",
       "</div>"
      ],
      "text/plain": [
       "                                               url label\n",
       "0         http://members.tripod.com/russiastation/  good\n",
       "1                 http://www.ddj.com/cpp/184403822  good\n",
       "2                         http://www.naef-usa.com/  good\n",
       "3                            http://www.ff-b2b.de/   bad\n",
       "4              http://us.imdb.com/title/tt0176269/  good\n",
       "...                                            ...   ...\n",
       "1199995                 http://csrc.nist.gov/rbac/  good\n",
       "1199996                  http://www.unm.edu/~hist/  good\n",
       "1199997  http://www.syfyportal.com/news423380.html  good\n",
       "1199998                    http://www.wardkenpo.ie  good\n",
       "1199999  http://homepages.gotadsl.co.uk/~jgm/ekmm/  good\n",
       "\n",
       "[1200000 rows x 2 columns]"
      ]
     },
     "execution_count": 68,
     "metadata": {},
     "output_type": "execute_result"
    }
   ],
   "source": [
    "df"
   ]
  },
  {
   "cell_type": "code",
   "execution_count": 69,
   "id": "b8467fc0",
   "metadata": {},
   "outputs": [],
   "source": [
    "df_benign = df.loc[df['label'] == 'good']\n",
    "df_malicious= df.loc[df['label'] == 'bad']"
   ]
  },
  {
   "cell_type": "code",
   "execution_count": 70,
   "id": "588bd099",
   "metadata": {},
   "outputs": [
    {
     "name": "stderr",
     "output_type": "stream",
     "text": [
      "C:\\Users\\warfa\\AppData\\Local\\Temp\\ipykernel_17336\\3057127919.py:1: SettingWithCopyWarning: \n",
      "A value is trying to be set on a copy of a slice from a DataFrame.\n",
      "Try using .loc[row_indexer,col_indexer] = value instead\n",
      "\n",
      "See the caveats in the documentation: https://pandas.pydata.org/pandas-docs/stable/user_guide/indexing.html#returning-a-view-versus-a-copy\n",
      "  df_malicious['benign'] = 0\n",
      "C:\\Users\\warfa\\AppData\\Local\\Temp\\ipykernel_17336\\3057127919.py:2: SettingWithCopyWarning: \n",
      "A value is trying to be set on a copy of a slice from a DataFrame.\n",
      "Try using .loc[row_indexer,col_indexer] = value instead\n",
      "\n",
      "See the caveats in the documentation: https://pandas.pydata.org/pandas-docs/stable/user_guide/indexing.html#returning-a-view-versus-a-copy\n",
      "  df_benign['benign'] = 1\n"
     ]
    }
   ],
   "source": [
    "df_malicious['benign'] = 0\n",
    "df_benign['benign'] = 1\n"
   ]
  },
  {
   "cell_type": "code",
   "execution_count": 72,
   "id": "e885bd37",
   "metadata": {},
   "outputs": [
    {
     "name": "stderr",
     "output_type": "stream",
     "text": [
      "C:\\Users\\warfa\\AppData\\Local\\Temp\\ipykernel_17336\\3598754194.py:1: SettingWithCopyWarning: \n",
      "A value is trying to be set on a copy of a slice from a DataFrame\n",
      "\n",
      "See the caveats in the documentation: https://pandas.pydata.org/pandas-docs/stable/user_guide/indexing.html#returning-a-view-versus-a-copy\n",
      "  df_benign.drop(columns=['label'],inplace=True)\n",
      "C:\\Users\\warfa\\AppData\\Local\\Temp\\ipykernel_17336\\3598754194.py:2: SettingWithCopyWarning: \n",
      "A value is trying to be set on a copy of a slice from a DataFrame\n",
      "\n",
      "See the caveats in the documentation: https://pandas.pydata.org/pandas-docs/stable/user_guide/indexing.html#returning-a-view-versus-a-copy\n",
      "  df_malicious.drop(columns=['label'],inplace=True)\n"
     ]
    }
   ],
   "source": [
    "df_benign.drop(columns=['label'],inplace=True)\n",
    "df_malicious.drop(columns=['label'],inplace=True)"
   ]
  },
  {
   "cell_type": "code",
   "execution_count": 75,
   "id": "e39f685e",
   "metadata": {},
   "outputs": [],
   "source": [
    "df_benign = df_benign.sample(frac=0.17, random_state=41)"
   ]
  },
  {
   "cell_type": "code",
   "execution_count": 77,
   "id": "458c122a",
   "metadata": {},
   "outputs": [],
   "source": [
    "df_concat = pd.concat([df_benign,df_malicious],ignore_index=True)"
   ]
  },
  {
   "cell_type": "code",
   "execution_count": 78,
   "id": "f886faf0",
   "metadata": {},
   "outputs": [],
   "source": [
    "df_concat.to_csv(\"websites_2gb_dataset.csv\",index=False)"
   ]
  },
  {
   "cell_type": "markdown",
   "id": "a45c4d0a",
   "metadata": {},
   "source": [
    "# malicious phishtank"
   ]
  },
  {
   "cell_type": "code",
   "execution_count": 79,
   "id": "277af6bf",
   "metadata": {},
   "outputs": [],
   "source": [
    "file = './malicious_phish.csv/malicious_phish.csv'\n",
    "df = pd.read_csv(file)"
   ]
  },
  {
   "cell_type": "code",
   "execution_count": 81,
   "id": "de1997fc",
   "metadata": {},
   "outputs": [
    {
     "data": {
      "text/html": [
       "<div>\n",
       "<style scoped>\n",
       "    .dataframe tbody tr th:only-of-type {\n",
       "        vertical-align: middle;\n",
       "    }\n",
       "\n",
       "    .dataframe tbody tr th {\n",
       "        vertical-align: top;\n",
       "    }\n",
       "\n",
       "    .dataframe thead th {\n",
       "        text-align: right;\n",
       "    }\n",
       "</style>\n",
       "<table border=\"1\" class=\"dataframe\">\n",
       "  <thead>\n",
       "    <tr style=\"text-align: right;\">\n",
       "      <th></th>\n",
       "      <th>url</th>\n",
       "    </tr>\n",
       "    <tr>\n",
       "      <th>type</th>\n",
       "      <th></th>\n",
       "    </tr>\n",
       "  </thead>\n",
       "  <tbody>\n",
       "    <tr>\n",
       "      <th>benign</th>\n",
       "      <td>428103</td>\n",
       "    </tr>\n",
       "    <tr>\n",
       "      <th>defacement</th>\n",
       "      <td>96457</td>\n",
       "    </tr>\n",
       "    <tr>\n",
       "      <th>malware</th>\n",
       "      <td>32520</td>\n",
       "    </tr>\n",
       "    <tr>\n",
       "      <th>phishing</th>\n",
       "      <td>94111</td>\n",
       "    </tr>\n",
       "  </tbody>\n",
       "</table>\n",
       "</div>"
      ],
      "text/plain": [
       "               url\n",
       "type              \n",
       "benign      428103\n",
       "defacement   96457\n",
       "malware      32520\n",
       "phishing     94111"
      ]
     },
     "execution_count": 81,
     "metadata": {},
     "output_type": "execute_result"
    }
   ],
   "source": [
    "df.groupby('type').count()"
   ]
  },
  {
   "cell_type": "code",
   "execution_count": 82,
   "id": "c912c648",
   "metadata": {},
   "outputs": [],
   "source": []
  },
  {
   "cell_type": "code",
   "execution_count": 84,
   "id": "980404c4",
   "metadata": {},
   "outputs": [
    {
     "name": "stderr",
     "output_type": "stream",
     "text": [
      "C:\\Users\\warfa\\AppData\\Local\\Temp\\ipykernel_17336\\28839079.py:1: SettingWithCopyWarning: \n",
      "A value is trying to be set on a copy of a slice from a DataFrame.\n",
      "Try using .loc[row_indexer,col_indexer] = value instead\n",
      "\n",
      "See the caveats in the documentation: https://pandas.pydata.org/pandas-docs/stable/user_guide/indexing.html#returning-a-view-versus-a-copy\n",
      "  df_benign['benign'] = 1\n"
     ]
    }
   ],
   "source": []
  },
  {
   "cell_type": "code",
   "execution_count": 85,
   "id": "43b6e139",
   "metadata": {},
   "outputs": [],
   "source": [
    "df.loc[df['type'] != 'benign',['benign']] = 0"
   ]
  },
  {
   "cell_type": "code",
   "execution_count": 86,
   "id": "25ff458f",
   "metadata": {},
   "outputs": [],
   "source": [
    "df.loc[df['type'] == 'benign',['benign']] = 1"
   ]
  },
  {
   "cell_type": "code",
   "execution_count": 89,
   "id": "4bdc9fdf",
   "metadata": {},
   "outputs": [],
   "source": [
    "df.drop(columns=['type'],inplace=True)"
   ]
  },
  {
   "cell_type": "code",
   "execution_count": 96,
   "id": "7ae37c69",
   "metadata": {},
   "outputs": [],
   "source": [
    "df = df.astype({\"benign\":int})"
   ]
  },
  {
   "cell_type": "code",
   "execution_count": 98,
   "id": "c6096385",
   "metadata": {},
   "outputs": [
    {
     "data": {
      "text/html": [
       "<div>\n",
       "<style scoped>\n",
       "    .dataframe tbody tr th:only-of-type {\n",
       "        vertical-align: middle;\n",
       "    }\n",
       "\n",
       "    .dataframe tbody tr th {\n",
       "        vertical-align: top;\n",
       "    }\n",
       "\n",
       "    .dataframe thead th {\n",
       "        text-align: right;\n",
       "    }\n",
       "</style>\n",
       "<table border=\"1\" class=\"dataframe\">\n",
       "  <thead>\n",
       "    <tr style=\"text-align: right;\">\n",
       "      <th></th>\n",
       "      <th>url</th>\n",
       "    </tr>\n",
       "    <tr>\n",
       "      <th>benign</th>\n",
       "      <th></th>\n",
       "    </tr>\n",
       "  </thead>\n",
       "  <tbody>\n",
       "    <tr>\n",
       "      <th>0</th>\n",
       "      <td>223088</td>\n",
       "    </tr>\n",
       "    <tr>\n",
       "      <th>1</th>\n",
       "      <td>428103</td>\n",
       "    </tr>\n",
       "  </tbody>\n",
       "</table>\n",
       "</div>"
      ],
      "text/plain": [
       "           url\n",
       "benign        \n",
       "0       223088\n",
       "1       428103"
      ]
     },
     "execution_count": 98,
     "metadata": {},
     "output_type": "execute_result"
    }
   ],
   "source": [
    "df.groupby('benign').count()"
   ]
  },
  {
   "cell_type": "code",
   "execution_count": 102,
   "id": "e9218723",
   "metadata": {},
   "outputs": [],
   "source": [
    "df.to_csv('malicious_phish_dataset.csv',index=False)"
   ]
  },
  {
   "cell_type": "markdown",
   "id": "1003c3ff",
   "metadata": {},
   "source": [
    "# phishtank verfied online csv"
   ]
  },
  {
   "cell_type": "code",
   "execution_count": 114,
   "id": "1ef38efd",
   "metadata": {},
   "outputs": [],
   "source": [
    "file = './verified_online.csv/verified_online.csv'\n",
    "df = pd.read_csv(file)"
   ]
  },
  {
   "cell_type": "code",
   "execution_count": 115,
   "id": "15c02c5c",
   "metadata": {},
   "outputs": [],
   "source": [
    "df = df['url']"
   ]
  },
  {
   "cell_type": "code",
   "execution_count": 116,
   "id": "f2dba371",
   "metadata": {},
   "outputs": [],
   "source": [
    "df = pd.DataFrame(df)"
   ]
  },
  {
   "cell_type": "code",
   "execution_count": 118,
   "id": "1565740c",
   "metadata": {},
   "outputs": [],
   "source": [
    "df['benign'] = 0"
   ]
  },
  {
   "cell_type": "code",
   "execution_count": 119,
   "id": "ab7eb9d3",
   "metadata": {},
   "outputs": [
    {
     "data": {
      "text/html": [
       "<div>\n",
       "<style scoped>\n",
       "    .dataframe tbody tr th:only-of-type {\n",
       "        vertical-align: middle;\n",
       "    }\n",
       "\n",
       "    .dataframe tbody tr th {\n",
       "        vertical-align: top;\n",
       "    }\n",
       "\n",
       "    .dataframe thead th {\n",
       "        text-align: right;\n",
       "    }\n",
       "</style>\n",
       "<table border=\"1\" class=\"dataframe\">\n",
       "  <thead>\n",
       "    <tr style=\"text-align: right;\">\n",
       "      <th></th>\n",
       "      <th>url</th>\n",
       "      <th>benign</th>\n",
       "    </tr>\n",
       "  </thead>\n",
       "  <tbody>\n",
       "    <tr>\n",
       "      <th>0</th>\n",
       "      <td>https://editor.domainspot.com/viewer/vbid-516a...</td>\n",
       "      <td>0</td>\n",
       "    </tr>\n",
       "    <tr>\n",
       "      <th>1</th>\n",
       "      <td>https://heypouch.com</td>\n",
       "      <td>0</td>\n",
       "    </tr>\n",
       "    <tr>\n",
       "      <th>2</th>\n",
       "      <td>https://apps.earthflora.net</td>\n",
       "      <td>0</td>\n",
       "    </tr>\n",
       "    <tr>\n",
       "      <th>3</th>\n",
       "      <td>https://dbs.ibaankiing-mobiile.com/</td>\n",
       "      <td>0</td>\n",
       "    </tr>\n",
       "    <tr>\n",
       "      <th>4</th>\n",
       "      <td>http://site9614304.92.webydo.com/?v=1</td>\n",
       "      <td>0</td>\n",
       "    </tr>\n",
       "    <tr>\n",
       "      <th>...</th>\n",
       "      <td>...</td>\n",
       "      <td>...</td>\n",
       "    </tr>\n",
       "    <tr>\n",
       "      <th>40241</th>\n",
       "      <td>http://fotovideobeny.pl/join/webscr.htm</td>\n",
       "      <td>0</td>\n",
       "    </tr>\n",
       "    <tr>\n",
       "      <th>40242</th>\n",
       "      <td>http://www.formbuddy.com/cgi-bin/formdisp.pl?u...</td>\n",
       "      <td>0</td>\n",
       "    </tr>\n",
       "    <tr>\n",
       "      <th>40243</th>\n",
       "      <td>http://www.formbuddy.com/cgi-bin/formdisp.pl?u...</td>\n",
       "      <td>0</td>\n",
       "    </tr>\n",
       "    <tr>\n",
       "      <th>40244</th>\n",
       "      <td>http://www.habbocreditosparati.blogspot.com/</td>\n",
       "      <td>0</td>\n",
       "    </tr>\n",
       "    <tr>\n",
       "      <th>40245</th>\n",
       "      <td>http://creditiperhabbogratissicuro100.blogspot...</td>\n",
       "      <td>0</td>\n",
       "    </tr>\n",
       "  </tbody>\n",
       "</table>\n",
       "<p>40246 rows × 2 columns</p>\n",
       "</div>"
      ],
      "text/plain": [
       "                                                     url  benign\n",
       "0      https://editor.domainspot.com/viewer/vbid-516a...       0\n",
       "1                                   https://heypouch.com       0\n",
       "2                            https://apps.earthflora.net       0\n",
       "3                    https://dbs.ibaankiing-mobiile.com/       0\n",
       "4                  http://site9614304.92.webydo.com/?v=1       0\n",
       "...                                                  ...     ...\n",
       "40241            http://fotovideobeny.pl/join/webscr.htm       0\n",
       "40242  http://www.formbuddy.com/cgi-bin/formdisp.pl?u...       0\n",
       "40243  http://www.formbuddy.com/cgi-bin/formdisp.pl?u...       0\n",
       "40244       http://www.habbocreditosparati.blogspot.com/       0\n",
       "40245  http://creditiperhabbogratissicuro100.blogspot...       0\n",
       "\n",
       "[40246 rows x 2 columns]"
      ]
     },
     "execution_count": 119,
     "metadata": {},
     "output_type": "execute_result"
    }
   ],
   "source": [
    "df"
   ]
  },
  {
   "cell_type": "code",
   "execution_count": 120,
   "id": "3962772d",
   "metadata": {},
   "outputs": [],
   "source": [
    "df.to_csv('phishtank_verified_dataset.csv')"
   ]
  },
  {
   "cell_type": "code",
   "execution_count": 121,
   "id": "096e3985",
   "metadata": {},
   "outputs": [
    {
     "data": {
      "text/html": [
       "<div>\n",
       "<style scoped>\n",
       "    .dataframe tbody tr th:only-of-type {\n",
       "        vertical-align: middle;\n",
       "    }\n",
       "\n",
       "    .dataframe tbody tr th {\n",
       "        vertical-align: top;\n",
       "    }\n",
       "\n",
       "    .dataframe thead th {\n",
       "        text-align: right;\n",
       "    }\n",
       "</style>\n",
       "<table border=\"1\" class=\"dataframe\">\n",
       "  <thead>\n",
       "    <tr style=\"text-align: right;\">\n",
       "      <th></th>\n",
       "      <th>url</th>\n",
       "      <th>benign</th>\n",
       "    </tr>\n",
       "  </thead>\n",
       "  <tbody>\n",
       "    <tr>\n",
       "      <th>0</th>\n",
       "      <td>https://editor.domainspot.com/viewer/vbid-516a...</td>\n",
       "      <td>0</td>\n",
       "    </tr>\n",
       "    <tr>\n",
       "      <th>1</th>\n",
       "      <td>https://heypouch.com</td>\n",
       "      <td>0</td>\n",
       "    </tr>\n",
       "    <tr>\n",
       "      <th>2</th>\n",
       "      <td>https://apps.earthflora.net</td>\n",
       "      <td>0</td>\n",
       "    </tr>\n",
       "    <tr>\n",
       "      <th>3</th>\n",
       "      <td>https://dbs.ibaankiing-mobiile.com/</td>\n",
       "      <td>0</td>\n",
       "    </tr>\n",
       "    <tr>\n",
       "      <th>4</th>\n",
       "      <td>http://site9614304.92.webydo.com/?v=1</td>\n",
       "      <td>0</td>\n",
       "    </tr>\n",
       "    <tr>\n",
       "      <th>...</th>\n",
       "      <td>...</td>\n",
       "      <td>...</td>\n",
       "    </tr>\n",
       "    <tr>\n",
       "      <th>40241</th>\n",
       "      <td>http://fotovideobeny.pl/join/webscr.htm</td>\n",
       "      <td>0</td>\n",
       "    </tr>\n",
       "    <tr>\n",
       "      <th>40242</th>\n",
       "      <td>http://www.formbuddy.com/cgi-bin/formdisp.pl?u...</td>\n",
       "      <td>0</td>\n",
       "    </tr>\n",
       "    <tr>\n",
       "      <th>40243</th>\n",
       "      <td>http://www.formbuddy.com/cgi-bin/formdisp.pl?u...</td>\n",
       "      <td>0</td>\n",
       "    </tr>\n",
       "    <tr>\n",
       "      <th>40244</th>\n",
       "      <td>http://www.habbocreditosparati.blogspot.com/</td>\n",
       "      <td>0</td>\n",
       "    </tr>\n",
       "    <tr>\n",
       "      <th>40245</th>\n",
       "      <td>http://creditiperhabbogratissicuro100.blogspot...</td>\n",
       "      <td>0</td>\n",
       "    </tr>\n",
       "  </tbody>\n",
       "</table>\n",
       "<p>40246 rows × 2 columns</p>\n",
       "</div>"
      ],
      "text/plain": [
       "                                                     url  benign\n",
       "0      https://editor.domainspot.com/viewer/vbid-516a...       0\n",
       "1                                   https://heypouch.com       0\n",
       "2                            https://apps.earthflora.net       0\n",
       "3                    https://dbs.ibaankiing-mobiile.com/       0\n",
       "4                  http://site9614304.92.webydo.com/?v=1       0\n",
       "...                                                  ...     ...\n",
       "40241            http://fotovideobeny.pl/join/webscr.htm       0\n",
       "40242  http://www.formbuddy.com/cgi-bin/formdisp.pl?u...       0\n",
       "40243  http://www.formbuddy.com/cgi-bin/formdisp.pl?u...       0\n",
       "40244       http://www.habbocreditosparati.blogspot.com/       0\n",
       "40245  http://creditiperhabbogratissicuro100.blogspot...       0\n",
       "\n",
       "[40246 rows x 2 columns]"
      ]
     },
     "execution_count": 121,
     "metadata": {},
     "output_type": "execute_result"
    }
   ],
   "source": [
    "df"
   ]
  },
  {
   "cell_type": "code",
   "execution_count": null,
   "id": "e794eaeb",
   "metadata": {},
   "outputs": [],
   "source": []
  },
  {
   "cell_type": "code",
   "execution_count": null,
   "id": "7627422f-fdf7-46b9-ae4f-ffc6ee6a08ca",
   "metadata": {},
   "outputs": [],
   "source": []
  }
 ],
 "metadata": {
  "kernelspec": {
   "display_name": "Python 3 (ipykernel)",
   "language": "python",
   "name": "python3"
  },
  "language_info": {
   "codemirror_mode": {
    "name": "ipython",
    "version": 3
   },
   "file_extension": ".py",
   "mimetype": "text/x-python",
   "name": "python",
   "nbconvert_exporter": "python",
   "pygments_lexer": "ipython3",
   "version": "3.9.18"
  }
 },
 "nbformat": 4,
 "nbformat_minor": 5
}
